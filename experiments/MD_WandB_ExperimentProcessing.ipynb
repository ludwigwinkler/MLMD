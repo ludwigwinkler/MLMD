{
 "cells": [
  {
   "cell_type": "code",
   "execution_count": 57,
   "metadata": {
    "collapsed": true
   },
   "outputs": [],
   "source": [
    "import future, sys, os, datetime, argparse\n",
    "# print(os.path.dirname(sys.executable))\n",
    "import torch\n",
    "import numpy as np\n",
    "import matplotlib\n",
    "from tqdm import tqdm\n",
    "# from tqdm.auto import tqdm\n",
    "import matplotlib.pyplot as plt\n",
    "from matplotlib.lines import Line2D\n",
    "matplotlib.rcParams[\"figure.figsize\"] = [10, 10]\n",
    "\n",
    "from IPython.core.interactiveshell import InteractiveShell\n",
    "InteractiveShell.ast_node_interactivity = \"all\"\n",
    "\n",
    "\n",
    "import wandb\n",
    "api = wandb.Api()\n",
    "\n",
    "def load_dataframe_wandb(runs):\n",
    "    # Change oreilly-class/cifar to <entity/project-name>\n",
    "    runs = api.runs(runs)\n",
    "    summary_list = []\n",
    "    config_list = []\n",
    "    name_list = []\n",
    "    for run in runs:\n",
    "    \t# run.summary are the output key/values like accuracy.  We call ._json_dict to omit large files\n",
    "    \tsummary_list.append(run.summary._json_dict)\n",
    "\n",
    "    \t# run.config is the input metrics.  We remove special values that start with _.\n",
    "    \tconfig_list.append({k: v for k, v in run.config.items() if not k.startswith('_')})\n",
    "\n",
    "    \t# run.name is the name of the run.\n",
    "    \tname_list.append(run.name)\n",
    "\n",
    "    import pandas as pd\n",
    "\n",
    "    summary_df = pd.DataFrame.from_records(summary_list)\n",
    "    config_df = pd.DataFrame.from_records(config_list)\n",
    "    name_df = pd.DataFrame({'name': name_list})\n",
    "    all_df = pd.concat([name_df, config_df, summary_df], axis=1)\n",
    "\n",
    "    return all_df"
   ]
  },
  {
   "cell_type": "code",
   "execution_count": 58,
   "outputs": [],
   "source": [
    "\n",
    "data = load_dataframe_wandb(\"mlmd/BiDirectional_MD\")\n"
   ],
   "metadata": {
    "collapsed": false,
    "pycharm": {
     "name": "#%%\n"
    }
   }
  },
  {
   "cell_type": "code",
   "execution_count": 122,
   "outputs": [
    {
     "name": "stdout",
     "output_type": "stream",
     "text": [
      "0.082\t \t & 0.060\t \t & 0.063\t \t & 0.061\t \t & 0.004\t \t & 0.004\t \t & 0.004\t \t & 0.004\\\\ \n",
      "0.063\t \t & 0.060\t \t & 0.065\t \t & 0.060\t \t & 0.004\t \t & 0.004\t \t & 0.004\t \t & 0.004\\\\ \n",
      "0.067\t \t & 0.059\t \t & 0.056\t \t & 0.064\t \t & 0.004\t \t & 0.004\t \t & 0.003\t \t & 0.004\\\\ \n",
      "0.063\t \t & 0.053\t \t & 0.048\t \t & 0.062\t \t & 0.002\t \t & 0.002\t \t & 0.001\t \t & 0.002\\\\ \n",
      "0.068\t \t & 0.057\t \t & 0.051\t \t & 0.066\t \t & -.--- \t \t & -.--- \t \t & 0.001\t \t & 0.001\\\\ \n",
      "0.037\t \t & 0.030\t \t & 0.043\t \t & 0.032\t \t & -.--- \t \t & -.--- \t \t & 0.000\t \t & 0.000\\\\ \n",
      "\n",
      "0.446\t \t & 0.252\t \t & 0.275\t \t & 0.255\t \t & 0.054\t \t & 0.053\t \t & 0.056\t \t & 0.053\\\\ \n",
      "0.263\t \t & 0.252\t \t & 0.264\t \t & 0.246\t \t & 0.053\t \t & 0.053\t \t & 0.055\t \t & 0.053\\\\ \n",
      "0.224\t \t & 0.233\t \t & 0.178\t \t & 0.211\t \t & 0.058\t \t & 0.051\t \t & 0.043\t \t & 0.063\\\\ \n",
      "0.210\t \t & 0.192\t \t & 0.149\t \t & 0.204\t \t & 0.056\t \t & 0.021\t \t & 0.008\t \t & 0.057\\\\ \n",
      "0.212\t \t & 0.211\t \t & 0.159\t \t & 0.211\t \t & -.--- \t \t & -.--- \t \t & 0.003\t \t & 0.017\\\\ \n",
      "0.112\t \t & 0.095\t \t & 0.096\t \t & 0.090\t \t & -.--- \t \t & -.--- \t \t & 0.001\t \t & 0.001\\\\ \n",
      "\n",
      "1.136\t \t & 0.474\t \t & 0.483\t \t & 0.472\t \t & 0.213\t \t & 0.211\t \t & 0.228\t \t & 0.212\\\\ \n",
      "0.514\t \t & 0.474\t \t & 0.425\t \t & 0.421\t \t & 0.210\t \t & 0.209\t \t & 0.242\t \t & 0.212\\\\ \n",
      "0.380\t \t & 0.407\t \t & 0.300\t \t & 0.346\t \t & 0.214\t \t & 0.194\t \t & 0.103\t \t & 0.209\\\\ \n",
      "0.318\t \t & 0.361\t \t & 0.251\t \t & 0.321\t \t & 0.169\t \t & 0.147\t \t & 0.071\t \t & 0.160\\\\ \n",
      "0.325\t \t & 0.358\t \t & 0.253\t \t & 0.335\t \t & -.--- \t \t & -.--- \t \t & 0.062\t \t & 0.079\\\\ \n",
      "0.214\t \t & 0.187\t \t & 0.208\t \t & 0.135\t \t & -.--- \t \t & -.--- \t \t & 0.023\t \t & 0.019\\\\ \n",
      "\n",
      "8.052\t \t & 0.655\t \t & 0.714\t \t & 0.625\t \t & 0.448\t \t & 0.444\t \t & 0.451\t \t & 0.428\\\\ \n",
      "0.726\t \t & 0.656\t \t & 0.504\t \t & 0.485\t \t & 0.472\t \t & 0.442\t \t & 0.364\t \t & 0.331\\\\ \n",
      "0.420\t \t & 0.579\t \t & 0.389\t \t & 0.414\t \t & 0.298\t \t & 0.329\t \t & 0.228\t \t & 0.290\\\\ \n",
      "0.390\t \t & 0.516\t \t & 0.332\t \t & 0.379\t \t & 0.255\t \t & 0.329\t \t & 0.147\t \t & 0.235\\\\ \n",
      "0.425\t \t & 0.491\t \t & 0.318\t \t & 0.395\t \t & -.--- \t \t & -.--- \t \t & 0.095\t \t & 0.189\\\\ \n",
      "0.301\t \t & -.--- \t \t & 0.266\t \t & 0.263\t \t & -.--- \t \t & -.--- \t \t & 0.034\t \t & 0.024\\\\ \n",
      "\n"
     ]
    }
   ],
   "source": [
    "data_set = 'keto_1fs.npz'\n",
    "\n",
    "for output_length in [2, 5, 10, 20]:\n",
    "\n",
    "    for pct_data_set in [0.001, 0.01, 0.1, 0.25, 0.5, 1.0]:\n",
    "        s = \"\"\n",
    "        for model in ['ode', 'hamiltonian', 'rnn', 'lstm', 'bi_ode', 'bi_hamiltonian', 'bi_rnn', 'bi_lstm']:\n",
    "            tmp = data[(data.data_set==data_set)&(data.output_length==output_length)&(data.pct_data_set==pct_data_set)&(data.model==model)]\n",
    "            try:\n",
    "                if model!='bi_lstm': s += f\"{tmp['val/mse'].to_list()[0]:.3f}\"+\"\\t \\t & \"\n",
    "                if model=='bi_lstm': s += f\"{tmp['val/mse'].to_list()[0]:.3f}\"+\"\\\\\\ \"\n",
    "            except:\n",
    "                if model!='bi_lstm': s += \"-.--- \\t \\t & \"\n",
    "                if model=='bi_lstm': s += \"-.--- \\\\\\ \"\n",
    "            # print(tmp['val/mse'].to_list())\n",
    "        print(s)\n",
    "    print('')"
   ],
   "metadata": {
    "collapsed": false,
    "pycharm": {
     "name": "#%%\n"
    }
   }
  },
  {
   "cell_type": "code",
   "execution_count": null,
   "outputs": [],
   "source": [],
   "metadata": {
    "collapsed": false,
    "pycharm": {
     "name": "#%%\n"
    }
   }
  }
 ],
 "metadata": {
  "kernelspec": {
   "display_name": "Python 3",
   "language": "python",
   "name": "python3"
  },
  "language_info": {
   "codemirror_mode": {
    "name": "ipython",
    "version": 2
   },
   "file_extension": ".py",
   "mimetype": "text/x-python",
   "name": "python",
   "nbconvert_exporter": "python",
   "pygments_lexer": "ipython2",
   "version": "2.7.6"
  }
 },
 "nbformat": 4,
 "nbformat_minor": 0
}